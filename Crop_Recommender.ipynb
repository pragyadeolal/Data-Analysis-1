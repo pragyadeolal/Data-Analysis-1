{
  "nbformat": 4,
  "nbformat_minor": 0,
  "metadata": {
    "colab": {
      "name": "Crop Recommender",
      "provenance": [],
      "collapsed_sections": []
    },
    "kernelspec": {
      "name": "python3",
      "display_name": "Python 3"
    },
    "language_info": {
      "name": "python"
    }
  },
  "cells": [
    {
      "cell_type": "code",
      "metadata": {
        "colab": {
          "resources": {
            "http://localhost:8080/nbextensions/google.colab/files.js": {
              "data": "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",
              "ok": true,
              "headers": [
                [
                  "content-type",
                  "application/javascript"
                ]
              ],
              "status": 200,
              "status_text": ""
            }
          },
          "base_uri": "https://localhost:8080/",
          "height": 73
        },
        "id": "Xuo1XPDD10ys",
        "outputId": "784be37c-97f6-4dac-9ecc-751bfd440bbe"
      },
      "source": [
        "import numpy as np\n",
        "import pandas as pd\n",
        "import matplotlib.pyplot as plt\n",
        "import seaborn as sns\n",
        "from sklearn.preprocessing import StandardScaler, LabelEncoder\n",
        "from sklearn.pipeline import make_pipeline\n",
        "from sklearn.model_selection import train_test_split\n",
        "from sklearn.neighbors import  KNeighborsClassifier\n",
        "from sklearn.ensemble import RandomForestClassifier\n",
        "from sklearn.tree import DecisionTreeClassifier\n",
        "from sklearn.metrics import accuracy_score, plot_confusion_matrix, confusion_matrix\n",
        "from google.colab import files\n",
        "data = files.upload()"
      ],
      "execution_count": 1,
      "outputs": [
        {
          "output_type": "display_data",
          "data": {
            "text/html": [
              "\n",
              "     <input type=\"file\" id=\"files-d65efabb-0425-4fb9-80d1-84c0d9111d05\" name=\"files[]\" multiple disabled\n",
              "        style=\"border:none\" />\n",
              "     <output id=\"result-d65efabb-0425-4fb9-80d1-84c0d9111d05\">\n",
              "      Upload widget is only available when the cell has been executed in the\n",
              "      current browser session. Please rerun this cell to enable.\n",
              "      </output>\n",
              "      <script src=\"/nbextensions/google.colab/files.js\"></script> "
            ],
            "text/plain": [
              "<IPython.core.display.HTML object>"
            ]
          },
          "metadata": {
            "tags": []
          }
        },
        {
          "output_type": "stream",
          "text": [
            "Saving CropDataset.csv to CropDataset.csv\n"
          ],
          "name": "stdout"
        }
      ]
    },
    {
      "cell_type": "code",
      "metadata": {
        "colab": {
          "base_uri": "https://localhost:8080/",
          "height": 202
        },
        "id": "TH7BTHmF2LO_",
        "outputId": "e2a8f897-caf2-44fb-cb66-ca677fbab135"
      },
      "source": [
        "df= pd.read_csv(\"CropDataset.csv\")\n",
        "df.head()"
      ],
      "execution_count": 2,
      "outputs": [
        {
          "output_type": "execute_result",
          "data": {
            "text/html": [
              "<div>\n",
              "<style scoped>\n",
              "    .dataframe tbody tr th:only-of-type {\n",
              "        vertical-align: middle;\n",
              "    }\n",
              "\n",
              "    .dataframe tbody tr th {\n",
              "        vertical-align: top;\n",
              "    }\n",
              "\n",
              "    .dataframe thead th {\n",
              "        text-align: right;\n",
              "    }\n",
              "</style>\n",
              "<table border=\"1\" class=\"dataframe\">\n",
              "  <thead>\n",
              "    <tr style=\"text-align: right;\">\n",
              "      <th></th>\n",
              "      <th>Avg Temp</th>\n",
              "      <th>Humidity %</th>\n",
              "      <th>Rainfall (mm)</th>\n",
              "      <th>Average pH</th>\n",
              "      <th>N</th>\n",
              "      <th>P</th>\n",
              "      <th>K</th>\n",
              "      <th>OC</th>\n",
              "      <th>Crop Type</th>\n",
              "    </tr>\n",
              "  </thead>\n",
              "  <tbody>\n",
              "    <tr>\n",
              "      <th>0</th>\n",
              "      <td>28.0</td>\n",
              "      <td>73.0</td>\n",
              "      <td>1094</td>\n",
              "      <td>7.85</td>\n",
              "      <td>10.0</td>\n",
              "      <td>12.0</td>\n",
              "      <td>9.0</td>\n",
              "      <td>6.0</td>\n",
              "      <td>Paddy</td>\n",
              "    </tr>\n",
              "    <tr>\n",
              "      <th>1</th>\n",
              "      <td>22.0</td>\n",
              "      <td>81.0</td>\n",
              "      <td>2782</td>\n",
              "      <td>4.00</td>\n",
              "      <td>NaN</td>\n",
              "      <td>NaN</td>\n",
              "      <td>NaN</td>\n",
              "      <td>NaN</td>\n",
              "      <td>Rice</td>\n",
              "    </tr>\n",
              "    <tr>\n",
              "      <th>2</th>\n",
              "      <td>23.0</td>\n",
              "      <td>77.0</td>\n",
              "      <td>2818</td>\n",
              "      <td>4.00</td>\n",
              "      <td>63.0</td>\n",
              "      <td>92.0</td>\n",
              "      <td>65.0</td>\n",
              "      <td>42.0</td>\n",
              "      <td>Tea</td>\n",
              "    </tr>\n",
              "    <tr>\n",
              "      <th>3</th>\n",
              "      <td>25.5</td>\n",
              "      <td>62.0</td>\n",
              "      <td>1256</td>\n",
              "      <td>6.95</td>\n",
              "      <td>2496.0</td>\n",
              "      <td>2015.0</td>\n",
              "      <td>2331.0</td>\n",
              "      <td>2133.0</td>\n",
              "      <td>Wheat</td>\n",
              "    </tr>\n",
              "    <tr>\n",
              "      <th>4</th>\n",
              "      <td>27.0</td>\n",
              "      <td>59.0</td>\n",
              "      <td>1247</td>\n",
              "      <td>6.68</td>\n",
              "      <td>12882.0</td>\n",
              "      <td>11239.0</td>\n",
              "      <td>9319.0</td>\n",
              "      <td>7184.0</td>\n",
              "      <td>Paddy</td>\n",
              "    </tr>\n",
              "  </tbody>\n",
              "</table>\n",
              "</div>"
            ],
            "text/plain": [
              "   Avg Temp  Humidity %  Rainfall (mm)  ...       K      OC  Crop Type\n",
              "0      28.0        73.0           1094  ...     9.0     6.0      Paddy\n",
              "1      22.0        81.0           2782  ...     NaN     NaN       Rice\n",
              "2      23.0        77.0           2818  ...    65.0    42.0        Tea\n",
              "3      25.5        62.0           1256  ...  2331.0  2133.0      Wheat\n",
              "4      27.0        59.0           1247  ...  9319.0  7184.0      Paddy\n",
              "\n",
              "[5 rows x 9 columns]"
            ]
          },
          "metadata": {
            "tags": []
          },
          "execution_count": 2
        }
      ]
    },
    {
      "cell_type": "code",
      "metadata": {
        "colab": {
          "base_uri": "https://localhost:8080/"
        },
        "id": "8F_S3nf22W_u",
        "outputId": "c6f1c30b-bfdc-4ea6-c72b-c8dfc6db3ef6"
      },
      "source": [
        "df.info()"
      ],
      "execution_count": 3,
      "outputs": [
        {
          "output_type": "stream",
          "text": [
            "<class 'pandas.core.frame.DataFrame'>\n",
            "RangeIndex: 30 entries, 0 to 29\n",
            "Data columns (total 9 columns):\n",
            " #   Column         Non-Null Count  Dtype  \n",
            "---  ------         --------------  -----  \n",
            " 0   Avg Temp       30 non-null     float64\n",
            " 1   Humidity %     30 non-null     float64\n",
            " 2   Rainfall (mm)  30 non-null     int64  \n",
            " 3   Average pH     30 non-null     float64\n",
            " 4   N              29 non-null     float64\n",
            " 5   P              29 non-null     float64\n",
            " 6   K              29 non-null     float64\n",
            " 7   OC             29 non-null     float64\n",
            " 8   Crop Type      30 non-null     object \n",
            "dtypes: float64(7), int64(1), object(1)\n",
            "memory usage: 2.2+ KB\n"
          ],
          "name": "stdout"
        }
      ]
    },
    {
      "cell_type": "code",
      "metadata": {
        "colab": {
          "base_uri": "https://localhost:8080/",
          "height": 971
        },
        "id": "2viS_IeFJJpD",
        "outputId": "939a0cd9-0aff-4ff3-d88a-07cb307454e0"
      },
      "source": [
        "#replacing null values with median\n",
        "df['Avg Temp'].fillna((df['Avg Temp'].median()), inplace=True)\n",
        "df['Humidity %'].fillna((df['Humidity %'].median()), inplace=True)\n",
        "df['Rainfall (mm)'].fillna((df['Rainfall (mm)'].median()), inplace=True)\n",
        "df['Average pH'].fillna((df['Average pH'].median()), inplace=True)\n",
        "df['N'].fillna((df['N'].median()), inplace=True)\n",
        "df['P'].fillna((df['P'].median()), inplace=True)\n",
        "df['K'].fillna((df['K'].median()), inplace=True)\n",
        "df['OC'].fillna((df['OC'].median()), inplace=True)\n",
        "labels = df[\"Crop Type\"].unique()\n",
        "df"
      ],
      "execution_count": 4,
      "outputs": [
        {
          "output_type": "execute_result",
          "data": {
            "text/html": [
              "<div>\n",
              "<style scoped>\n",
              "    .dataframe tbody tr th:only-of-type {\n",
              "        vertical-align: middle;\n",
              "    }\n",
              "\n",
              "    .dataframe tbody tr th {\n",
              "        vertical-align: top;\n",
              "    }\n",
              "\n",
              "    .dataframe thead th {\n",
              "        text-align: right;\n",
              "    }\n",
              "</style>\n",
              "<table border=\"1\" class=\"dataframe\">\n",
              "  <thead>\n",
              "    <tr style=\"text-align: right;\">\n",
              "      <th></th>\n",
              "      <th>Avg Temp</th>\n",
              "      <th>Humidity %</th>\n",
              "      <th>Rainfall (mm)</th>\n",
              "      <th>Average pH</th>\n",
              "      <th>N</th>\n",
              "      <th>P</th>\n",
              "      <th>K</th>\n",
              "      <th>OC</th>\n",
              "      <th>Crop Type</th>\n",
              "    </tr>\n",
              "  </thead>\n",
              "  <tbody>\n",
              "    <tr>\n",
              "      <th>0</th>\n",
              "      <td>28.00</td>\n",
              "      <td>73.0</td>\n",
              "      <td>1094</td>\n",
              "      <td>7.85</td>\n",
              "      <td>10.0</td>\n",
              "      <td>12.0</td>\n",
              "      <td>9.0</td>\n",
              "      <td>6.0</td>\n",
              "      <td>Paddy</td>\n",
              "    </tr>\n",
              "    <tr>\n",
              "      <th>1</th>\n",
              "      <td>22.00</td>\n",
              "      <td>81.0</td>\n",
              "      <td>2782</td>\n",
              "      <td>4.00</td>\n",
              "      <td>525.0</td>\n",
              "      <td>1088.0</td>\n",
              "      <td>1167.0</td>\n",
              "      <td>1476.0</td>\n",
              "      <td>Rice</td>\n",
              "    </tr>\n",
              "    <tr>\n",
              "      <th>2</th>\n",
              "      <td>23.00</td>\n",
              "      <td>77.0</td>\n",
              "      <td>2818</td>\n",
              "      <td>4.00</td>\n",
              "      <td>63.0</td>\n",
              "      <td>92.0</td>\n",
              "      <td>65.0</td>\n",
              "      <td>42.0</td>\n",
              "      <td>Tea</td>\n",
              "    </tr>\n",
              "    <tr>\n",
              "      <th>3</th>\n",
              "      <td>25.50</td>\n",
              "      <td>62.0</td>\n",
              "      <td>1256</td>\n",
              "      <td>6.95</td>\n",
              "      <td>2496.0</td>\n",
              "      <td>2015.0</td>\n",
              "      <td>2331.0</td>\n",
              "      <td>2133.0</td>\n",
              "      <td>Wheat</td>\n",
              "    </tr>\n",
              "    <tr>\n",
              "      <th>4</th>\n",
              "      <td>27.00</td>\n",
              "      <td>59.0</td>\n",
              "      <td>1247</td>\n",
              "      <td>6.68</td>\n",
              "      <td>12882.0</td>\n",
              "      <td>11239.0</td>\n",
              "      <td>9319.0</td>\n",
              "      <td>7184.0</td>\n",
              "      <td>Paddy</td>\n",
              "    </tr>\n",
              "    <tr>\n",
              "      <th>5</th>\n",
              "      <td>27.50</td>\n",
              "      <td>76.0</td>\n",
              "      <td>3005</td>\n",
              "      <td>5.75</td>\n",
              "      <td>2822.0</td>\n",
              "      <td>2973.0</td>\n",
              "      <td>2017.0</td>\n",
              "      <td>2736.0</td>\n",
              "      <td>Paddy</td>\n",
              "    </tr>\n",
              "    <tr>\n",
              "      <th>6</th>\n",
              "      <td>27.50</td>\n",
              "      <td>55.0</td>\n",
              "      <td>1017</td>\n",
              "      <td>7.40</td>\n",
              "      <td>40.0</td>\n",
              "      <td>68.0</td>\n",
              "      <td>45.0</td>\n",
              "      <td>40.0</td>\n",
              "      <td>Cotton</td>\n",
              "    </tr>\n",
              "    <tr>\n",
              "      <th>7</th>\n",
              "      <td>24.70</td>\n",
              "      <td>49.0</td>\n",
              "      <td>617</td>\n",
              "      <td>6.95</td>\n",
              "      <td>8594.0</td>\n",
              "      <td>10785.0</td>\n",
              "      <td>8799.0</td>\n",
              "      <td>13512.0</td>\n",
              "      <td>Bajra</td>\n",
              "    </tr>\n",
              "    <tr>\n",
              "      <th>8</th>\n",
              "      <td>13.50</td>\n",
              "      <td>62.5</td>\n",
              "      <td>1251</td>\n",
              "      <td>4.00</td>\n",
              "      <td>14956.0</td>\n",
              "      <td>19990.0</td>\n",
              "      <td>17257.0</td>\n",
              "      <td>14113.0</td>\n",
              "      <td>Wheat</td>\n",
              "    </tr>\n",
              "    <tr>\n",
              "      <th>9</th>\n",
              "      <td>13.50</td>\n",
              "      <td>70.0</td>\n",
              "      <td>1011</td>\n",
              "      <td>4.00</td>\n",
              "      <td>3519.0</td>\n",
              "      <td>4537.0</td>\n",
              "      <td>7472.0</td>\n",
              "      <td>3748.0</td>\n",
              "      <td>Rice</td>\n",
              "    </tr>\n",
              "    <tr>\n",
              "      <th>10</th>\n",
              "      <td>23.50</td>\n",
              "      <td>55.0</td>\n",
              "      <td>1237</td>\n",
              "      <td>6.95</td>\n",
              "      <td>3513.0</td>\n",
              "      <td>2003.0</td>\n",
              "      <td>2628.0</td>\n",
              "      <td>1986.0</td>\n",
              "      <td>Maize</td>\n",
              "    </tr>\n",
              "    <tr>\n",
              "      <th>11</th>\n",
              "      <td>24.00</td>\n",
              "      <td>63.0</td>\n",
              "      <td>1771</td>\n",
              "      <td>4.00</td>\n",
              "      <td>87634.0</td>\n",
              "      <td>87173.0</td>\n",
              "      <td>84880.0</td>\n",
              "      <td>87340.0</td>\n",
              "      <td>Coffee</td>\n",
              "    </tr>\n",
              "    <tr>\n",
              "      <th>12</th>\n",
              "      <td>27.00</td>\n",
              "      <td>78.0</td>\n",
              "      <td>3055</td>\n",
              "      <td>4.00</td>\n",
              "      <td>11.0</td>\n",
              "      <td>1088.0</td>\n",
              "      <td>1167.0</td>\n",
              "      <td>1554.0</td>\n",
              "      <td>Coffee</td>\n",
              "    </tr>\n",
              "    <tr>\n",
              "      <th>13</th>\n",
              "      <td>25.50</td>\n",
              "      <td>50.0</td>\n",
              "      <td>2405</td>\n",
              "      <td>5.93</td>\n",
              "      <td>68837.0</td>\n",
              "      <td>40663.0</td>\n",
              "      <td>63279.0</td>\n",
              "      <td>35542.0</td>\n",
              "      <td>Wheat</td>\n",
              "    </tr>\n",
              "    <tr>\n",
              "      <th>14</th>\n",
              "      <td>26.00</td>\n",
              "      <td>71.0</td>\n",
              "      <td>5822</td>\n",
              "      <td>7.85</td>\n",
              "      <td>3907.0</td>\n",
              "      <td>4474.0</td>\n",
              "      <td>5840.0</td>\n",
              "      <td>4053.0</td>\n",
              "      <td>Groundnut</td>\n",
              "    </tr>\n",
              "    <tr>\n",
              "      <th>15</th>\n",
              "      <td>20.90</td>\n",
              "      <td>69.0</td>\n",
              "      <td>1881</td>\n",
              "      <td>5.00</td>\n",
              "      <td>88.0</td>\n",
              "      <td>74.0</td>\n",
              "      <td>100.0</td>\n",
              "      <td>57.0</td>\n",
              "      <td>Maize</td>\n",
              "    </tr>\n",
              "    <tr>\n",
              "      <th>16</th>\n",
              "      <td>17.50</td>\n",
              "      <td>81.0</td>\n",
              "      <td>2818</td>\n",
              "      <td>6.00</td>\n",
              "      <td>6.0</td>\n",
              "      <td>1110.0</td>\n",
              "      <td>1008.0</td>\n",
              "      <td>915.0</td>\n",
              "      <td>Potato</td>\n",
              "    </tr>\n",
              "    <tr>\n",
              "      <th>17</th>\n",
              "      <td>22.70</td>\n",
              "      <td>83.5</td>\n",
              "      <td>1881</td>\n",
              "      <td>5.00</td>\n",
              "      <td>1.0</td>\n",
              "      <td>1.0</td>\n",
              "      <td>2.0</td>\n",
              "      <td>1.0</td>\n",
              "      <td>Maize</td>\n",
              "    </tr>\n",
              "    <tr>\n",
              "      <th>18</th>\n",
              "      <td>18.50</td>\n",
              "      <td>83.0</td>\n",
              "      <td>1881</td>\n",
              "      <td>6.00</td>\n",
              "      <td>34.0</td>\n",
              "      <td>29.0</td>\n",
              "      <td>26.0</td>\n",
              "      <td>34.0</td>\n",
              "      <td>Paddy</td>\n",
              "    </tr>\n",
              "    <tr>\n",
              "      <th>19</th>\n",
              "      <td>27.00</td>\n",
              "      <td>70.0</td>\n",
              "      <td>1489</td>\n",
              "      <td>4.00</td>\n",
              "      <td>2649.0</td>\n",
              "      <td>25998.0</td>\n",
              "      <td>45060.0</td>\n",
              "      <td>29181.0</td>\n",
              "      <td>Sugarcane</td>\n",
              "    </tr>\n",
              "    <tr>\n",
              "      <th>20</th>\n",
              "      <td>28.50</td>\n",
              "      <td>75.0</td>\n",
              "      <td>998</td>\n",
              "      <td>7.00</td>\n",
              "      <td>494.0</td>\n",
              "      <td>377.0</td>\n",
              "      <td>237.0</td>\n",
              "      <td>1.0</td>\n",
              "      <td>Groundnut</td>\n",
              "    </tr>\n",
              "    <tr>\n",
              "      <th>21</th>\n",
              "      <td>23.50</td>\n",
              "      <td>68.0</td>\n",
              "      <td>649</td>\n",
              "      <td>6.95</td>\n",
              "      <td>25.0</td>\n",
              "      <td>61.0</td>\n",
              "      <td>44.0</td>\n",
              "      <td>65.0</td>\n",
              "      <td>Wheat</td>\n",
              "    </tr>\n",
              "    <tr>\n",
              "      <th>22</th>\n",
              "      <td>26.90</td>\n",
              "      <td>55.0</td>\n",
              "      <td>988</td>\n",
              "      <td>8.00</td>\n",
              "      <td>5.0</td>\n",
              "      <td>118.0</td>\n",
              "      <td>181.0</td>\n",
              "      <td>148.0</td>\n",
              "      <td>Cotton</td>\n",
              "    </tr>\n",
              "    <tr>\n",
              "      <th>23</th>\n",
              "      <td>18.00</td>\n",
              "      <td>87.0</td>\n",
              "      <td>2739</td>\n",
              "      <td>8.65</td>\n",
              "      <td>466.0</td>\n",
              "      <td>331.0</td>\n",
              "      <td>315.0</td>\n",
              "      <td>491.0</td>\n",
              "      <td>Cardamon</td>\n",
              "    </tr>\n",
              "    <tr>\n",
              "      <th>24</th>\n",
              "      <td>26.50</td>\n",
              "      <td>70.0</td>\n",
              "      <td>998</td>\n",
              "      <td>5.93</td>\n",
              "      <td>1814.0</td>\n",
              "      <td>752.0</td>\n",
              "      <td>1293.0</td>\n",
              "      <td>1476.0</td>\n",
              "      <td>Cashew</td>\n",
              "    </tr>\n",
              "    <tr>\n",
              "      <th>25</th>\n",
              "      <td>26.45</td>\n",
              "      <td>56.0</td>\n",
              "      <td>961</td>\n",
              "      <td>6.43</td>\n",
              "      <td>525.0</td>\n",
              "      <td>598.0</td>\n",
              "      <td>415.0</td>\n",
              "      <td>547.0</td>\n",
              "      <td>Rice</td>\n",
              "    </tr>\n",
              "    <tr>\n",
              "      <th>26</th>\n",
              "      <td>25.50</td>\n",
              "      <td>74.0</td>\n",
              "      <td>1881</td>\n",
              "      <td>6.25</td>\n",
              "      <td>2701.0</td>\n",
              "      <td>2142.0</td>\n",
              "      <td>2555.0</td>\n",
              "      <td>1675.0</td>\n",
              "      <td>Rice</td>\n",
              "    </tr>\n",
              "    <tr>\n",
              "      <th>27</th>\n",
              "      <td>26.00</td>\n",
              "      <td>60.0</td>\n",
              "      <td>3588</td>\n",
              "      <td>6.95</td>\n",
              "      <td>4147.0</td>\n",
              "      <td>2784.0</td>\n",
              "      <td>4134.0</td>\n",
              "      <td>3132.0</td>\n",
              "      <td>Sugarcane</td>\n",
              "    </tr>\n",
              "    <tr>\n",
              "      <th>28</th>\n",
              "      <td>13.50</td>\n",
              "      <td>66.0</td>\n",
              "      <td>1069</td>\n",
              "      <td>4.00</td>\n",
              "      <td>12.0</td>\n",
              "      <td>185.0</td>\n",
              "      <td>130.0</td>\n",
              "      <td>188.0</td>\n",
              "      <td>Sugarcane</td>\n",
              "    </tr>\n",
              "    <tr>\n",
              "      <th>29</th>\n",
              "      <td>26.50</td>\n",
              "      <td>71.0</td>\n",
              "      <td>4178</td>\n",
              "      <td>6.00</td>\n",
              "      <td>7.0</td>\n",
              "      <td>4.0</td>\n",
              "      <td>2.0</td>\n",
              "      <td>8.0</td>\n",
              "      <td>Jute</td>\n",
              "    </tr>\n",
              "  </tbody>\n",
              "</table>\n",
              "</div>"
            ],
            "text/plain": [
              "    Avg Temp  Humidity %  Rainfall (mm)  ...        K       OC  Crop Type\n",
              "0      28.00        73.0           1094  ...      9.0      6.0      Paddy\n",
              "1      22.00        81.0           2782  ...   1167.0   1476.0       Rice\n",
              "2      23.00        77.0           2818  ...     65.0     42.0        Tea\n",
              "3      25.50        62.0           1256  ...   2331.0   2133.0      Wheat\n",
              "4      27.00        59.0           1247  ...   9319.0   7184.0      Paddy\n",
              "5      27.50        76.0           3005  ...   2017.0   2736.0      Paddy\n",
              "6      27.50        55.0           1017  ...     45.0     40.0     Cotton\n",
              "7      24.70        49.0            617  ...   8799.0  13512.0      Bajra\n",
              "8      13.50        62.5           1251  ...  17257.0  14113.0      Wheat\n",
              "9      13.50        70.0           1011  ...   7472.0   3748.0       Rice\n",
              "10     23.50        55.0           1237  ...   2628.0   1986.0      Maize\n",
              "11     24.00        63.0           1771  ...  84880.0  87340.0     Coffee\n",
              "12     27.00        78.0           3055  ...   1167.0   1554.0     Coffee\n",
              "13     25.50        50.0           2405  ...  63279.0  35542.0      Wheat\n",
              "14     26.00        71.0           5822  ...   5840.0   4053.0  Groundnut\n",
              "15     20.90        69.0           1881  ...    100.0     57.0      Maize\n",
              "16     17.50        81.0           2818  ...   1008.0    915.0     Potato\n",
              "17     22.70        83.5           1881  ...      2.0      1.0      Maize\n",
              "18     18.50        83.0           1881  ...     26.0     34.0      Paddy\n",
              "19     27.00        70.0           1489  ...  45060.0  29181.0  Sugarcane\n",
              "20     28.50        75.0            998  ...    237.0      1.0  Groundnut\n",
              "21     23.50        68.0            649  ...     44.0     65.0      Wheat\n",
              "22     26.90        55.0            988  ...    181.0    148.0     Cotton\n",
              "23     18.00        87.0           2739  ...    315.0    491.0   Cardamon\n",
              "24     26.50        70.0            998  ...   1293.0   1476.0     Cashew\n",
              "25     26.45        56.0            961  ...    415.0    547.0       Rice\n",
              "26     25.50        74.0           1881  ...   2555.0   1675.0       Rice\n",
              "27     26.00        60.0           3588  ...   4134.0   3132.0  Sugarcane\n",
              "28     13.50        66.0           1069  ...    130.0    188.0  Sugarcane\n",
              "29     26.50        71.0           4178  ...      2.0      8.0       Jute\n",
              "\n",
              "[30 rows x 9 columns]"
            ]
          },
          "metadata": {
            "tags": []
          },
          "execution_count": 4
        }
      ]
    },
    {
      "cell_type": "code",
      "metadata": {
        "colab": {
          "base_uri": "https://localhost:8080/",
          "height": 327
        },
        "id": "wjfnKZsF2bFk",
        "outputId": "a5d5ebb3-86d7-42dc-a52e-29fef8ec3da2"
      },
      "source": [
        "plt.figure()\n",
        "sns.heatmap(df.corr(), center = 0, annot = True)\n",
        "plt.show()"
      ],
      "execution_count": 5,
      "outputs": [
        {
          "output_type": "display_data",
          "data": {
            "image/png": "[encoded data removed]",
            "text/plain": [
              "<Figure size 432x288 with 2 Axes>"
            ]
          },
          "metadata": {
            "tags": [],
            "needs_background": "light"
          }
        }
      ]
    },
    {
      "cell_type": "code",
      "metadata": {
        "colab": {
          "base_uri": "https://localhost:8080/"
        },
        "id": "ItrIV-GeHT35",
        "outputId": "845a1618-cf1f-456f-8776-a46962cb5245"
      },
      "source": [
        "columns = df.columns[:-1]\n",
        "columns"
      ],
      "execution_count": 6,
      "outputs": [
        {
          "output_type": "execute_result",
          "data": {
            "text/plain": [
              "Index(['Avg Temp', 'Humidity %', 'Rainfall (mm)', 'Average pH', 'N', 'P', 'K',\n",
              "       'OC'],\n",
              "      dtype='object')"
            ]
          },
          "metadata": {
            "tags": []
          },
          "execution_count": 6
        }
      ]
    },
    {
      "cell_type": "code",
      "metadata": {
        "colab": {
          "base_uri": "https://localhost:8080/"
        },
        "id": "oDbqEUeO20pO",
        "outputId": "7c51c594-a123-483b-b66f-b35a3090cf31"
      },
      "source": [
        "label_encoder = LabelEncoder()\n",
        "x = df[columns]\n",
        "y = label_encoder.fit_transform(df[\"Crop Type\"])\n",
        "print(x.shape, y.shape)\n",
        "print(x)"
      ],
      "execution_count": 7,
      "outputs": [
        {
          "output_type": "stream",
          "text": [
            "(30, 8) (30,)\n",
            "    Avg Temp  Humidity %  Rainfall (mm)  ...        P        K       OC\n",
            "0      28.00        73.0           1094  ...     12.0      9.0      6.0\n",
            "1      22.00        81.0           2782  ...   1088.0   1167.0   1476.0\n",
            "2      23.00        77.0           2818  ...     92.0     65.0     42.0\n",
            "3      25.50        62.0           1256  ...   2015.0   2331.0   2133.0\n",
            "4      27.00        59.0           1247  ...  11239.0   9319.0   7184.0\n",
            "5      27.50        76.0           3005  ...   2973.0   2017.0   2736.0\n",
            "6      27.50        55.0           1017  ...     68.0     45.0     40.0\n",
            "7      24.70        49.0            617  ...  10785.0   8799.0  13512.0\n",
            "8      13.50        62.5           1251  ...  19990.0  17257.0  14113.0\n",
            "9      13.50        70.0           1011  ...   4537.0   7472.0   3748.0\n",
            "10     23.50        55.0           1237  ...   2003.0   2628.0   1986.0\n",
            "11     24.00        63.0           1771  ...  87173.0  84880.0  87340.0\n",
            "12     27.00        78.0           3055  ...   1088.0   1167.0   1554.0\n",
            "13     25.50        50.0           2405  ...  40663.0  63279.0  35542.0\n",
            "14     26.00        71.0           5822  ...   4474.0   5840.0   4053.0\n",
            "15     20.90        69.0           1881  ...     74.0    100.0     57.0\n",
            "16     17.50        81.0           2818  ...   1110.0   1008.0    915.0\n",
            "17     22.70        83.5           1881  ...      1.0      2.0      1.0\n",
            "18     18.50        83.0           1881  ...     29.0     26.0     34.0\n",
            "19     27.00        70.0           1489  ...  25998.0  45060.0  29181.0\n",
            "20     28.50        75.0            998  ...    377.0    237.0      1.0\n",
            "21     23.50        68.0            649  ...     61.0     44.0     65.0\n",
            "22     26.90        55.0            988  ...    118.0    181.0    148.0\n",
            "23     18.00        87.0           2739  ...    331.0    315.0    491.0\n",
            "24     26.50        70.0            998  ...    752.0   1293.0   1476.0\n",
            "25     26.45        56.0            961  ...    598.0    415.0    547.0\n",
            "26     25.50        74.0           1881  ...   2142.0   2555.0   1675.0\n",
            "27     26.00        60.0           3588  ...   2784.0   4134.0   3132.0\n",
            "28     13.50        66.0           1069  ...    185.0    130.0    188.0\n",
            "29     26.50        71.0           4178  ...      4.0      2.0      8.0\n",
            "\n",
            "[30 rows x 8 columns]\n"
          ],
          "name": "stdout"
        }
      ]
    },
    {
      "cell_type": "code",
      "metadata": {
        "colab": {
          "base_uri": "https://localhost:8080/"
        },
        "id": "q7xqIJMC3Iy0",
        "outputId": "2716f5f3-be5d-4306-8031-21e3e3af111d"
      },
      "source": [
        "Crops = {}\n",
        "for i in range(14):\n",
        "    Crops[i] = label_encoder.inverse_transform([i])[0]\n",
        "Crops"
      ],
      "execution_count": 8,
      "outputs": [
        {
          "output_type": "execute_result",
          "data": {
            "text/plain": [
              "{0: 'Bajra',\n",
              " 1: 'Cardamon',\n",
              " 2: 'Cashew',\n",
              " 3: 'Coffee',\n",
              " 4: 'Cotton',\n",
              " 5: 'Groundnut',\n",
              " 6: 'Jute',\n",
              " 7: 'Maize',\n",
              " 8: 'Paddy',\n",
              " 9: 'Potato',\n",
              " 10: 'Rice',\n",
              " 11: 'Sugarcane',\n",
              " 12: 'Tea',\n",
              " 13: 'Wheat'}"
            ]
          },
          "metadata": {
            "tags": []
          },
          "execution_count": 8
        }
      ]
    },
    {
      "cell_type": "code",
      "metadata": {
        "id": "8YO-YqoV3eAC"
      },
      "source": [
        "x_train, x_test, y_train, y_test= train_test_split(x, y, test_size= 0.25, random_state=0) "
      ],
      "execution_count": 9,
      "outputs": []
    },
    {
      "cell_type": "code",
      "metadata": {
        "colab": {
          "base_uri": "https://localhost:8080/"
        },
        "id": "ZTMMDSfv62mu",
        "outputId": "0400070c-d15f-4dbd-a44b-f13e6d2f19d0"
      },
      "source": [
        "#KNN\n",
        "error_rate = []\n",
        "for i in range(1, 20):\n",
        "    pipeline = make_pipeline(StandardScaler(), KNeighborsClassifier(n_neighbors = i))\n",
        "    pipeline.fit(x_train, y_train)\n",
        "    predictions = pipeline.predict(x_test)\n",
        "    accuracy = accuracy_score(y_test, predictions)\n",
        "    error_rate.append(np.mean(predictions != y_test))\n",
        "print(\"Minimum error:\",min(error_rate),\"at K =\",error_rate.index(min(error_rate))+1)"
      ],
      "execution_count": 10,
      "outputs": [
        {
          "output_type": "stream",
          "text": [
            "Minimum error: 0.875 at K = 1\n"
          ],
          "name": "stdout"
        }
      ]
    },
    {
      "cell_type": "code",
      "metadata": {
        "colab": {
          "base_uri": "https://localhost:8080/"
        },
        "id": "RE8_x62PJlai",
        "outputId": "213fb6e6-75b4-4657-acdf-72644faa2a19"
      },
      "source": [
        "knn_pipeline = make_pipeline(StandardScaler(), KNeighborsClassifier(n_neighbors = 1))\n",
        "knn_pipeline.fit(x_train, y_train)"
      ],
      "execution_count": 11,
      "outputs": [
        {
          "output_type": "execute_result",
          "data": {
            "text/plain": [
              "Pipeline(memory=None,\n",
              "         steps=[('standardscaler',\n",
              "                 StandardScaler(copy=True, with_mean=True, with_std=True)),\n",
              "                ('kneighborsclassifier',\n",
              "                 KNeighborsClassifier(algorithm='auto', leaf_size=30,\n",
              "                                      metric='minkowski', metric_params=None,\n",
              "                                      n_jobs=None, n_neighbors=1, p=2,\n",
              "                                      weights='uniform'))],\n",
              "         verbose=False)"
            ]
          },
          "metadata": {
            "tags": []
          },
          "execution_count": 11
        }
      ]
    },
    {
      "cell_type": "code",
      "metadata": {
        "colab": {
          "base_uri": "https://localhost:8080/",
          "height": 314
        },
        "id": "ylk1P3WOKQ2X",
        "outputId": "763f7413-650a-4827-e33d-1655e0de9657"
      },
      "source": [
        "predictions = knn_pipeline.predict(x_test)\n",
        "accuracy = accuracy_score(y_test, predictions)\n",
        "print(f\"Accuracy on Test Data: {accuracy*100}%\")\n",
        "plt.figure()\n",
        "sns.heatmap(confusion_matrix(y_test, predictions), annot = True)\n",
        "plt.title(\"Confusion Matrix for Test Data\")\n",
        "plt.show()\n",
        "print()"
      ],
      "execution_count": 12,
      "outputs": [
        {
          "output_type": "stream",
          "text": [
            "Accuracy on Test Data: 12.5%\n"
          ],
          "name": "stdout"
        },
        {
          "output_type": "display_data",
          "data": {
            "image/png": "[encoded data removed]",
            "text/plain": [
              "<Figure size 432x288 with 2 Axes>"
            ]
          },
          "metadata": {
            "tags": [],
            "needs_background": "light"
          }
        },
        {
          "output_type": "stream",
          "text": [
            "\n"
          ],
          "name": "stdout"
        }
      ]
    },
    {
      "cell_type": "code",
      "metadata": {
        "colab": {
          "base_uri": "https://localhost:8080/",
          "height": 314
        },
        "id": "BswlDBA7KXp7",
        "outputId": "71ea5522-9213-4b31-d0fd-e30888520472"
      },
      "source": [
        "#RandomForest\n",
        "rfr = make_pipeline(StandardScaler(), RandomForestClassifier(random_state = 18))\n",
        "rfr.fit(x_train, y_train)\n",
        "\n",
        "# Accuray On Test Data\n",
        "predictions = rfr.predict(x_test)\n",
        "accuracy = accuracy_score(y_test, predictions)\n",
        "print(f\"Accuracy on Test Data: {accuracy*100}%\")\n",
        "plt.figure()\n",
        "sns.heatmap(confusion_matrix(y_test, predictions), annot = True)\n",
        "plt.title(\"Confusion Matrix for Test Data\")\n",
        "plt.show()\n",
        "print()"
      ],
      "execution_count": 17,
      "outputs": [
        {
          "output_type": "stream",
          "text": [
            "Accuracy on Test Data: 25.0%\n"
          ],
          "name": "stdout"
        },
        {
          "output_type": "display_data",
          "data": {
            "image/png": "[encoded data removed]",
            "text/plain": [
              "<Figure size 432x288 with 2 Axes>"
            ]
          },
          "metadata": {
            "tags": [],
            "needs_background": "light"
          }
        },
        {
          "output_type": "stream",
          "text": [
            "\n"
          ],
          "name": "stdout"
        }
      ]
    },
    {
      "cell_type": "code",
      "metadata": {
        "colab": {
          "base_uri": "https://localhost:8080/",
          "height": 314
        },
        "id": "ffuD1_FlLDGN",
        "outputId": "33f04d91-43cc-49e8-8ab1-8db5b0e46876"
      },
      "source": [
        "#Decision Tree\n",
        "dt = DecisionTreeClassifier()\n",
        "dt.fit(x_train,y_train)\n",
        "\n",
        "# Accuray On Test Data\n",
        "dt_pred = dt.predict(x_test)\n",
        "accuracy = accuracy_score(y_test, dt_pred)\n",
        "print(f\"Accuracy on Test Data: {accuracy*100}%\")\n",
        "plt.figure()\n",
        "sns.heatmap(confusion_matrix(y_test, dt_pred), annot = True)\n",
        "plt.title(\"Confusion Matrix for Test Data\")\n",
        "plt.show()\n",
        "print()"
      ],
      "execution_count": 26,
      "outputs": [
        {
          "output_type": "stream",
          "text": [
            "Accuracy on Test Data: 0.0%\n"
          ],
          "name": "stdout"
        },
        {
          "output_type": "display_data",
          "data": {
            "image/png": "[encoded data removed]",
            "text/plain": [
              "<Figure size 432x288 with 2 Axes>"
            ]
          },
          "metadata": {
            "tags": [],
            "needs_background": "light"
          }
        },
        {
          "output_type": "stream",
          "text": [
            "\n"
          ],
          "name": "stdout"
        }
      ]
    },
    {
      "cell_type": "code",
      "metadata": {
        "colab": {
          "base_uri": "https://localhost:8080/",
          "height": 314
        },
        "id": "zFBLW6foPeQs",
        "outputId": "5157133a-4caa-41eb-a53a-3708592a0220"
      },
      "source": [
        "#SVM\n",
        "from sklearn.svm import SVC\n",
        "st_x= StandardScaler()    \n",
        "x_train= st_x.fit_transform(x_train)    \n",
        "x_test= st_x.transform(x_test)\n",
        "classifier = SVC(kernel='linear', random_state=0)  \n",
        "classifier.fit(x_train, y_train) \n",
        "y_pred= classifier.predict(x_test)\n",
        "\n",
        "accuracy = accuracy_score(y_test, y_pred)\n",
        "print(f\"Accuracy on Test Data: {accuracy*100}%\")\n",
        "plt.figure()\n",
        "sns.heatmap(confusion_matrix(y_test, y_pred), annot = True)\n",
        "plt.title(\"Confusion Matrix for Test Data\")\n",
        "plt.show()\n",
        "print()"
      ],
      "execution_count": 25,
      "outputs": [
        {
          "output_type": "stream",
          "text": [
            "Accuracy on Test Data: 0.0%\n"
          ],
          "name": "stdout"
        },
        {
          "output_type": "display_data",
          "data": {
            "image/png": "[encoded data removed]",
            "text/plain": [
              "<Figure size 432x288 with 2 Axes>"
            ]
          },
          "metadata": {
            "tags": [],
            "needs_background": "light"
          }
        },
        {
          "output_type": "stream",
          "text": [
            "\n"
          ],
          "name": "stdout"
        }
      ]
    },
    {
      "cell_type": "code",
      "metadata": {
        "colab": {
          "base_uri": "https://localhost:8080/",
          "height": 314
        },
        "id": "v4c1V6SeOHXz",
        "outputId": "5e85a058-d7fd-430f-c1e6-4185317496a2"
      },
      "source": [
        "#NaiveBayes\n",
        "from sklearn.naive_bayes import GaussianNB\n",
        "NaiveBayes = GaussianNB()\n",
        "NaiveBayes.fit(x_train,y_train)\n",
        "y_pred_values = NaiveBayes.predict(x_test)\n",
        "\n",
        "accuracy = accuracy_score(y_test, y_pred_values)\n",
        "print(f\"Accuracy on NaiveBayes: {accuracy*100}%\")\n",
        "plt.figure()\n",
        "sns.heatmap(confusion_matrix(y_test, y_pred_values), annot = True)\n",
        "plt.title(\"Confusion Matrix for Test Data\")\n",
        "plt.show()\n",
        "print()"
      ],
      "execution_count": 28,
      "outputs": [
        {
          "output_type": "stream",
          "text": [
            "Accuracy on NaiveBayes: 25.0%\n"
          ],
          "name": "stdout"
        },
        {
          "output_type": "display_data",
          "data": {
            "image/png": "[encoded data removed]",
            "text/plain": [
              "<Figure size 432x288 with 2 Axes>"
            ]
          },
          "metadata": {
            "tags": [],
            "needs_background": "light"
          }
        },
        {
          "output_type": "stream",
          "text": [
            "\n"
          ],
          "name": "stdout"
        }
      ]
    }
  ]
}